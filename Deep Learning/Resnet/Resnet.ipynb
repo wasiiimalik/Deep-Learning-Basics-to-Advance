{
  "nbformat": 4,
  "nbformat_minor": 0,
  "metadata": {
    "colab": {
      "name": "Resnet.ipynb",
      "provenance": []
    },
    "kernelspec": {
      "name": "python3",
      "display_name": "Python 3"
    },
    "language_info": {
      "name": "python"
    }
  },
  "cells": [
    {
      "cell_type": "code",
      "execution_count": 1,
      "metadata": {
        "colab": {
          "base_uri": "https://localhost:8080/"
        },
        "id": "QfHqdMGwluDD",
        "outputId": "59876114-808c-4626-dcae-698916d210a9"
      },
      "outputs": [
        {
          "output_type": "stream",
          "name": "stdout",
          "text": [
            "Traceback (most recent call last):\n",
            "  File \"/usr/local/bin/kaggle\", line 5, in <module>\n",
            "    from kaggle.cli import main\n",
            "  File \"/usr/local/lib/python3.7/dist-packages/kaggle/__init__.py\", line 23, in <module>\n",
            "    api.authenticate()\n",
            "  File \"/usr/local/lib/python3.7/dist-packages/kaggle/api/kaggle_api_extended.py\", line 166, in authenticate\n",
            "    self.config_file, self.config_dir))\n",
            "OSError: Could not find kaggle.json. Make sure it's located in /root/.kaggle. Or use the environment method.\n"
          ]
        }
      ],
      "source": [
        "#! coding: utf8\n",
        "import numpy as np\n",
        "import pandas as pd\n",
        "from keras import backend as K\n",
        "from keras.applications.resnet50 import conv_block, identity_block\n",
        "from keras.layers import (Activation, BatchNormalization, Convolution2D, Dense,\n",
        "                          Flatten, Input, MaxPooling2D, ZeroPadding2D)\n",
        "from keras.models import Model\n",
        "from keras.optimizers import RMSprop\n",
        "from keras.utils.np_utils import to_categorical\n",
        "\n",
        "\n",
        "\n",
        "# define some variables\n",
        "SHAPE = (28, 28, 1)\n",
        "bn_axis = 3 if K.image_dim_ordering() == 'tf' else 1\n",
        "\n",
        "# load data\n",
        "train = pd.read_csv(\"train.csv\")\n",
        "test  = pd.read_csv(\"test.csv\")\n",
        "train_x = train.drop('label', axis=1).values.reshape(\n",
        "    -1, *SHAPE\n",
        ").astype(float)/255.0\n",
        "train_y = to_categorical(train.label.values)\n",
        "test_x = test.values.reshape(\n",
        "    -1, *SHAPE\n",
        ").astype(float)/255.0\n",
        "\n",
        "\n",
        "def build_model(seed=None):\n",
        "    # We can't use ResNet50 directly, as it might cause a negative dimension\n",
        "    # error.\n",
        "    if seed:\n",
        "        np.random.seed(seed)\n",
        "\n",
        "    input_layer = Input(shape=SHAPE)\n",
        "\n",
        "    x = ZeroPadding2D((3, 3))(input_layer)\n",
        "    x = Convolution2D(64, 7, 7, subsample=(2, 2), name='conv1')(x)\n",
        "    x = BatchNormalization(axis=bn_axis, name='bn_conv1')(x)\n",
        "    x = Activation('relu')(x)\n",
        "    x = MaxPooling2D((3, 3), strides=(2, 2))(x)\n",
        "\n",
        "    x = conv_block(x, 3, [64, 64, 256], stage=2, block='a', strides=(1, 1))\n",
        "    x = identity_block(x, 3, [64, 64, 256], stage=2, block='b')\n",
        "    x = identity_block(x, 3, [64, 64, 256], stage=2, block='c')\n",
        "\n",
        "    x = conv_block(x, 3, [128, 128, 512], stage=3, block='a')\n",
        "    x = identity_block(x, 3, [128, 128, 512], stage=3, block='b')\n",
        "    x = identity_block(x, 3, [128, 128, 512], stage=3, block='c')\n",
        "    x = identity_block(x, 3, [128, 128, 512], stage=3, block='d')\n",
        "\n",
        "    x = conv_block(x, 3, [256, 256, 1024], stage=4, block='a')\n",
        "    x = identity_block(x, 3, [256, 256, 1024], stage=4, block='b')\n",
        "    x = identity_block(x, 3, [256, 256, 1024], stage=4, block='c')\n",
        "    x = identity_block(x, 3, [256, 256, 1024], stage=4, block='d')\n",
        "    x = identity_block(x, 3, [256, 256, 1024], stage=4, block='e')\n",
        "    x = identity_block(x, 3, [256, 256, 1024], stage=4, block='f')\n",
        "\n",
        "\n",
        "    x = Flatten()(x)\n",
        "    x = Dense(10, activation='softmax', name='fc10')(x)\n",
        "\n",
        "    model = Model(input_layer, x)\n",
        "\n",
        "    return model\n",
        "\n",
        "\n",
        "# fit\n",
        "model = build_model()\n",
        "# model = Parallelizer().transform(model)\n",
        "model.compile(RMSprop(lr=1e-4), 'categorical_crossentropy', ['accuracy'])\n",
        "# batch_size = real_batch_size * n_GPUs\n",
        "# model.fit(train_x, train_y, batch_size=64*2, nb_epoch=20)\n",
        "model.fit(train_x, train_y, batch_size=64, nb_epoch=20)\n",
        "# model.save('digit_recognizer_model.h5')\n",
        "\n",
        "# predict\n",
        "pred_y = model.predict(test_x).argmax(1)\n",
        "pd.DataFrame({\n",
        "    'ImageId': range(1, len(pred_y)+1),\n",
        "    'Label': pred_y\n",
        "}).to_csv('test_y.csv', index=False)\n"
      ]
    },
    {
      "cell_type": "code",
      "source": [
        ""
      ],
      "metadata": {
        "id": "R9TmA9cumboq"
      },
      "execution_count": null,
      "outputs": []
    }
  ]
}